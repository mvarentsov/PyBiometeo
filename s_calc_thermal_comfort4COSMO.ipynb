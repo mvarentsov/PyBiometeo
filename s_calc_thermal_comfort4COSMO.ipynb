{
 "cells": [
  {
   "cell_type": "code",
   "execution_count": 1,
   "id": "158e52f5",
   "metadata": {},
   "outputs": [],
   "source": [
    "import xarray as xr\n",
    "import numpy as np\n",
    "import biometeo\n",
    "\n",
    "from mrt_utils import *\n",
    "\n",
    "from tqdm import tqdm"
   ]
  },
  {
   "cell_type": "code",
   "execution_count": null,
   "id": "89b96428",
   "metadata": {},
   "outputs": [],
   "source": [
    "ground_alb  = 0.2\n",
    "ground_emis = 0.95\n",
    "ground_z0 = 0.1\n",
    "\n",
    "ds_dir = r\"G:\\!Data\\Moscow\\CLM\\Experiments\\Short_runs_MSK\\20210601\\MSK_0.0025_WorldCover1_rucpOVMr2\\OUT_v6teb_ICONfixed2ERA5_AEV5t2_alb2_rt25_noconv_rucpOVMr2_thDS\\cr\\\\\"\n",
    "\n",
    "ds = xr.open_mfdataset(ds_dir + '*.nc')\n",
    "ds.load()\n",
    "\n",
    "ds['VEL_10M'] = np.sqrt (ds['U_10M']**2 + ds['V_10M']**2)\n",
    "ds['GHI'] = ds['SWDIRS_RAD'] + ds['SWDIFDS_RAD']"
   ]
  },
  {
   "cell_type": "code",
   "execution_count": null,
   "id": "923afad8",
   "metadata": {},
   "outputs": [
    {
     "name": "stderr",
     "output_type": "stream",
     "text": [
      "100%|██████████| 361/361 [00:06<00:00, 55.40it/s]\n"
     ]
    }
   ],
   "source": [
    "if 'MRT_sun' not in ds.data_vars or 'MRT_shd' not in ds.data_vars:\n",
    "    ds['MRT_sun'],ds['MRT_shd'] = calc_MRT4ds (ds, 'T_2M', 'GHI', 'SWDIFDS_RAD', 'THDS_RAD', 'T_G', ground_alb, ground_emis)\n",
    "    ds['MRT_sun'].to_netcdf(ds_dir + 'MRT_sun.nc')\n",
    "    ds['MRT_shd'].to_netcdf(ds_dir + 'MRT_shd.nc')\n"
   ]
  },
  {
   "cell_type": "code",
   "execution_count": null,
   "id": "5e19f7b9",
   "metadata": {},
   "outputs": [
    {
     "name": "stderr",
     "output_type": "stream",
     "text": [
      "100%|██████████| 361/361 [05:10<00:00,  1.16it/s]\n"
     ]
    }
   ],
   "source": [
    "ds['PET_sun'] = ds['T_2M'] * np.nan\n",
    "ds['PET_shd'] = ds['T_2M'] * np.nan\n",
    "\n",
    "ds['UTCI_sun'] = ds['T_2M'] * np.nan\n",
    "ds['UTCI_shd'] = ds['T_2M'] * np.nan\n",
    "\n",
    "\n",
    "for i,time in tqdm (enumerate(ds.time), total = ds.time.shape[0]): \n",
    "    ds4time = ds.sel(time=time)\n",
    "    \n",
    "    ds4time['T_2Mc'] = ds4time['T_2M'] - 273.15\n",
    "\n",
    "    ds4time['E_2M'] = 6.11 * np.exp(17.27 * ds4time['T_2Mc']  / (ds4time['T_2Mc'] + 237.3))\n",
    "    ds4time['e_2M'] = ds4time['E_2M'] * ds4time['RELHUM_2M'] / 100\n",
    "    \n",
    "    ds4time['VEL_1.1m'] = ds4time['VEL_10M'] * np.log (1.1/ground_z0) / np.log(10/ground_z0)\n",
    "    ds4time['VEL_1.1m'] = ds4time['VEL_1.1m'].where(ds4time['VEL_1.1m'] > 0.341,  0.341)\n",
    "    ds4time['VEL_1.1m'] = ds4time['VEL_1.1m'].where(ds4time['VEL_1.1m'] < 11.568, 11.568)\n",
    "\n",
    "    for i_rlon in range (10): #ds.rlon.shape[0]):\n",
    "        for i_rlat in range (10): #ds.rlon.shape[0]):\n",
    "            pet_res = biometeo.PET(Ta = float(ds4time['T_2Mc'][i_rlon,i_rlat]),\n",
    "                                   VP = float(ds4time['e_2M'][i_rlon,i_rlat]),\n",
    "                                   v  = float(ds4time['VEL_1.1m'][i_rlon,i_rlat]),\n",
    "                                   Tmrt = float(ds4time['MRT_sun'][i_rlon,i_rlat] - 273.15)) \n",
    "            ds['PET_sun'][i,i_rlon,i_rlat] = pet_res['PET_v']\n",
    "            \n",
    "            pet_res = biometeo.PET(Ta = float(ds4time['T_2Mc'][i_rlon,i_rlat]),\n",
    "                                   VP = float(ds4time['e_2M'][i_rlon,i_rlat]),\n",
    "                                   v  = float(ds4time['VEL_1.1m'][i_rlon,i_rlat]),\n",
    "                                   Tmrt = float(ds4time['MRT_shd'][i_rlon,i_rlat] - 273.15)) \n",
    "            ds['PET_shd'][i,i_rlon,i_rlat] = pet_res['PET_v']\n",
    "\n",
    "            utci_res = biometeo.UTCI(Ta = float(ds4time['T_2Mc'][i_rlon,i_rlat]),\n",
    "                                     VP = float(ds4time['e_2M'][i_rlon,i_rlat]),\n",
    "                                     v  = float(ds4time['VEL_1.1m'][i_rlon,i_rlat]),\n",
    "                                     Tmrt = float(ds4time['MRT_sun'][i_rlon,i_rlat] - 273.15)) \n",
    "            ds['UTCI_sun'][i,i_rlon,i_rlat] = utci_res\n",
    "            \n",
    "            utci_res = biometeo.UTCI(Ta = float(ds4time['T_2Mc'][i_rlon,i_rlat]),\n",
    "                                     VP = float(ds4time['e_2M'][i_rlon,i_rlat]),\n",
    "                                     v  = float(ds4time['VEL_1.1m'][i_rlon,i_rlat]),\n",
    "                                     Tmrt = float(ds4time['MRT_shd'][i_rlon,i_rlat] - 273.15)) \n",
    "            ds['UTCI_sun'][i,i_rlon,i_rlat] = utci_res\n",
    "            \n",
    "ds['PET_sun'].to_netcdf(ds_dir + 'PET_sun.nc')\n",
    "ds['PET_shd'].to_netcdf(ds_dir + 'PET_shd.nc')\n",
    "ds['UTCI_sun'].to_netcdf(ds_dir + 'UTCI_sun.nc')\n",
    "ds['UTCI_shd'].to_netcdf(ds_dir + 'UTCI_shd.nc')"
   ]
  },
  {
   "cell_type": "code",
   "execution_count": 1,
   "id": "8a99be8e",
   "metadata": {},
   "outputs": [
    {
     "ename": "NameError",
     "evalue": "name 'ds' is not defined",
     "output_type": "error",
     "traceback": [
      "\u001b[1;31m---------------------------------------------------------------------------\u001b[0m",
      "\u001b[1;31mNameError\u001b[0m                                 Traceback (most recent call last)",
      "Cell \u001b[1;32mIn[1], line 1\u001b[0m\n\u001b[1;32m----> 1\u001b[0m ds4point \u001b[38;5;241m=\u001b[39m \u001b[43mds\u001b[49m\u001b[38;5;241m.\u001b[39misel(rlon\u001b[38;5;241m=\u001b[39m\u001b[38;5;241m4\u001b[39m, rlat\u001b[38;5;241m=\u001b[39m\u001b[38;5;241m4\u001b[39m)\n\u001b[0;32m      2\u001b[0m (ds4point[\u001b[38;5;124m'\u001b[39m\u001b[38;5;124mT_2M\u001b[39m\u001b[38;5;124m'\u001b[39m]\u001b[38;5;241m-\u001b[39m\u001b[38;5;241m273.5\u001b[39m)\u001b[38;5;241m.\u001b[39mplot()\n\u001b[0;32m      3\u001b[0m ds4point[\u001b[38;5;124m'\u001b[39m\u001b[38;5;124mPET_sun\u001b[39m\u001b[38;5;124m'\u001b[39m]\u001b[38;5;241m.\u001b[39mplot()\n",
      "\u001b[1;31mNameError\u001b[0m: name 'ds' is not defined"
     ]
    }
   ],
   "source": [
    "ds4point = ds.isel(rlon=4, rlat=4)\n",
    "(ds4point['T_2M']-273.5).plot()\n",
    "ds4point['PET_sun'].plot()\n",
    "ds4point['PET_shd'].plot()"
   ]
  }
 ],
 "metadata": {
  "kernelspec": {
   "display_name": "bioclim",
   "language": "python",
   "name": "python3"
  },
  "language_info": {
   "codemirror_mode": {
    "name": "ipython",
    "version": 3
   },
   "file_extension": ".py",
   "mimetype": "text/x-python",
   "name": "python",
   "nbconvert_exporter": "python",
   "pygments_lexer": "ipython3",
   "version": "3.10.16"
  }
 },
 "nbformat": 4,
 "nbformat_minor": 5
}
